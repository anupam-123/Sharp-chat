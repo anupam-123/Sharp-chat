{
 "cells": [
  {
   "cell_type": "code",
   "execution_count": 1,
   "metadata": {},
   "outputs": [
    {
     "name": "stdout",
     "output_type": "stream",
     "text": [
      "hello world\n"
     ]
    }
   ],
   "source": [
    "print(\"hello world\")"
   ]
  },
  {
   "cell_type": "markdown",
   "metadata": {},
   "source": [
    "## Naive Chunking"
   ]
  },
  {
   "cell_type": "code",
   "execution_count": 9,
   "metadata": {},
   "outputs": [],
   "source": [
    "from typing import List\n",
    "\n",
    "\n",
    "def fixed_window_splitter(text: str, chunk_size: int = 1000) -> List[str]:\n",
    "    \"\"\"Splits text at given chunk_size\"\"\"\n",
    "    splits = []\n",
    "    for i in range(0, len(text), chunk_size):\n",
    "        splits.append(text[i:i + chunk_size])\n",
    "    return splits"
   ]
  },
  {
   "cell_type": "code",
   "execution_count": 4,
   "metadata": {},
   "outputs": [
    {
     "name": "stdout",
     "output_type": "stream",
     "text": [
      "[\"Hello World!\\nThis is a test string to demonstrate\\nhow the naive_splitter_v2 function works.\\n\\nThe goal is to split this text at every newline (\\n) or carriage return (\\r) character.\\nLet's see how it performs!\"]\n"
     ]
    }
   ],
   "source": [
    "print(fixed_window_splitter(\"\"\"Hello World!\n",
    "This is a test string to demonstrate\n",
    "how the naive_splitter_v2 function works.\n",
    "\n",
    "The goal is to split this text at every newline (\\n) or carriage return (\\r) character.\n",
    "Let's see how it performs!\"\"\"))"
   ]
  },
  {
   "cell_type": "markdown",
   "metadata": {},
   "source": [
    "## Fixed Window Chunking"
   ]
  },
  {
   "cell_type": "code",
   "execution_count": 10,
   "metadata": {},
   "outputs": [],
   "source": [
    "def fixed_window_with_overlap_splitter(text: str, chunk_size: int = 1000, chunk_overlap: int = 10) -> List[str]:\n",
    "    \"\"\"Splits text at given chunk_size, and starts next chunk from start - chunk_overlap position\"\"\"\n",
    "    chunks = []\n",
    "    start = 0\n",
    "    \n",
    "    while start <= len(text):\n",
    "        end = start + chunk_size\n",
    "        chunks.append(text[start:end])\n",
    "        start = end - chunk_overlap\n",
    "    \n",
    "    return chunks"
   ]
  },
  {
   "cell_type": "code",
   "execution_count": 11,
   "metadata": {},
   "outputs": [
    {
     "name": "stdout",
     "output_type": "stream",
     "text": [
      "['lorem100Lorem ipsum dolor sit, amet consectetur adipisicing elit. Minima amet totam quam aliquam eveniet, mollitia ducimus, libero dignissimos error enim id ipsa odit reprehenderit hic beatae nemo dolor excepturi voluptatem, quia adipisci earum suscipit eum iste dicta! Fugiat eaque accusantium vitae eius atque autem architecto asperiores nemo quibusdam, eveniet enim nobis, itaque ad! Eveniet, blanditiis perferendis quo atque neque quaerat facere rerum consequuntur animi consectetur laborum ab laudantium, magnam ipsa aut facilis a culpa cum sunt doloribus. Ducimus obcaecati deserunt consequatur voluptatum nobis nesciunt temporibus suscipit, dolore eos. Excepturi, laudantium labore numquam soluta officiis et suscipit pariatur veritatis aspernatur at!']\n"
     ]
    }
   ],
   "source": [
    "print(fixed_window_with_overlap_splitter(\"lorem100Lorem ipsum dolor sit, amet consectetur adipisicing elit. Minima amet totam quam aliquam eveniet, mollitia ducimus, libero dignissimos error enim id ipsa odit reprehenderit hic beatae nemo dolor excepturi voluptatem, quia adipisci earum suscipit eum iste dicta! Fugiat eaque accusantium vitae eius atque autem architecto asperiores nemo quibusdam, eveniet enim nobis, itaque ad! Eveniet, blanditiis perferendis quo atque neque quaerat facere rerum consequuntur animi consectetur laborum ab laudantium, magnam ipsa aut facilis a culpa cum sunt doloribus. Ducimus obcaecati deserunt consequatur voluptatum nobis nesciunt temporibus suscipit, dolore eos. Excepturi, laudantium labore numquam soluta officiis et suscipit pariatur veritatis aspernatur at!\"))"
   ]
  },
  {
   "cell_type": "code",
   "execution_count": null,
   "metadata": {},
   "outputs": [],
   "source": [
    "from pypdf import PdfReader\n"
   ]
  },
  {
   "cell_type": "code",
   "execution_count": null,
   "metadata": {},
   "outputs": [],
   "source": [
    "from transformers import AutoModel\n"
   ]
  },
  {
   "cell_type": "code",
   "execution_count": null,
   "metadata": {},
   "outputs": [],
   "source": []
  }
 ],
 "metadata": {
  "kernelspec": {
   "display_name": "gen",
   "language": "python",
   "name": "python3"
  },
  "language_info": {
   "codemirror_mode": {
    "name": "ipython",
    "version": 3
   },
   "file_extension": ".py",
   "mimetype": "text/x-python",
   "name": "python",
   "nbconvert_exporter": "python",
   "pygments_lexer": "ipython3",
   "version": "3.13.0"
  }
 },
 "nbformat": 4,
 "nbformat_minor": 2
}
